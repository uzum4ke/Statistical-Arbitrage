{
 "cells": [
  {
   "cell_type": "code",
   "execution_count": 3,
   "metadata": {},
   "outputs": [],
   "source": [
    "import MetaTrader5 as mt5\n",
    "import time\n",
    "import math\n",
    "import numpy as np\n",
    "import pandas as pd\n",
    "from datetime import datetime, timedelta\n",
    "\n",
    "from forex_python.converter import CurrencyRates\n",
    "from currency_converter import CurrencyConverter\n",
    "\n",
    "from random import sample\n",
    "\n",
    "from tqdm import tqdm\n",
    "import vectorbt as vbt\n",
    "\n",
    "from pandas.tseries.offsets import BDay\n",
    "from itertools import combinations, count\n",
    "\n",
    "import statsmodels.api as sm\n",
    "from statsmodels.tsa.vector_ar.vecm import coint_johansen\n",
    "from statsmodels.tsa.stattools import adfuller\n",
    "\n",
    "from threading import Thread, Lock\n",
    "from multiprocessing import Process\n",
    "\n",
    "import requests\n",
    "import json\n",
    "import hashlib\n",
    "\n",
    "import matplotlib as mpl\n",
    "import matplotlib.pyplot as plt\n",
    "from matplotlib import cycler"
   ]
  },
  {
   "cell_type": "code",
   "execution_count": 4,
   "metadata": {},
   "outputs": [],
   "source": [
    "colors = cycler('color', ['669FEE', '66EE91', '9988DD', 'EECC55', '88BB44', 'FFBBBB'])\n",
    "plt.rc('figure', facecolor='313233')\n",
    "plt.rc('axes', facecolor='313233', edgecolor='none', axisbelow=True, grid=True, prop_cycle=colors, labelcolor='gray')\n",
    "plt.rc('grid', color='474A4A', linestyle='solid')\n",
    "plt.rc('xtick', color='gray')\n",
    "plt.rc('ytick', direction='out', color='gray')\n",
    "plt.rc('legend', facecolor='313233', edgecolor='313233')\n",
    "plt.rc('text')"
   ]
  },
  {
   "cell_type": "code",
   "execution_count": 5,
   "metadata": {},
   "outputs": [],
   "source": [
    "def send_telegram_message(message: str, chat_id: str, api_key: str, ):\n",
    "    responses = {}\n",
    "\n",
    "    proxies = None\n",
    "    headers = {'Content-Type': 'application/json',\n",
    "               'Proxy-Authorization': 'Basic base64'}\n",
    "    data_dict = {'chat_id': chat_id,\n",
    "                 'text': message,\n",
    "                 'parse_mode': 'HTML',\n",
    "                 'disable_notification': True}\n",
    "    data = json.dumps(data_dict)\n",
    "    url = f'https://api.telegram.org/bot{api_key}/sendMessage'\n",
    "\n",
    "    requests.packages.urllib3.disable_warnings()\n",
    "    response = requests.post(url,\n",
    "                             data=data,\n",
    "                             headers=headers,\n",
    "                             proxies=proxies,\n",
    "                             verify=False)\n",
    "    return response"
   ]
  },
  {
   "cell_type": "code",
   "execution_count": 6,
   "metadata": {},
   "outputs": [],
   "source": [
    "def get_symbols(location):\n",
    "    mt5.initialize()\n",
    "\n",
    "    symbol_list = []\n",
    "    for symbol in mt5.symbols_get():\n",
    "        if location in symbol.path:\n",
    "            symbol_list.append(symbol.name)\n",
    "\n",
    "    return symbol_list"
   ]
  },
  {
   "cell_type": "code",
   "execution_count": 7,
   "metadata": {},
   "outputs": [],
   "source": [
    "def get_bars_from_broker(symbol, start_date, end_date, timeframe=mt5.TIMEFRAME_M1):\n",
    "    mt5.initialize()\n",
    "    bars = mt5.copy_rates_range(symbol, timeframe, start_date, end_date)\n",
    "    df_bars = pd.DataFrame(bars)\n",
    "    df_bars[\"time\"] = pd.to_datetime(df_bars[\"time\"], unit=\"s\")\n",
    "    return df_bars"
   ]
  },
  {
   "cell_type": "code",
   "execution_count": 8,
   "metadata": {},
   "outputs": [],
   "source": [
    "def get_latest_bar(symbol, timeframe=mt5.TIMEFRAME_M1):\n",
    "    mt5.initialize()\n",
    "    bar = mt5.copy_rates_from(\n",
    "        symbol,\n",
    "        timeframe,\n",
    "        datetime.now() + timedelta(hours=3),\n",
    "        1)  # number of bars\n",
    "    df_bar = pd.DataFrame(bar)\n",
    "    df_bar[\"time\"] = pd.to_datetime(df_bar[\"time\"], unit=\"s\")\n",
    "    return df_bar"
   ]
  },
  {
   "cell_type": "code",
   "execution_count": 9,
   "metadata": {},
   "outputs": [],
   "source": [
    "def new_bar_event_pairs(name_1, name_2, last_bar_1, last_bar_2):\n",
    "    mt5.initialize()\n",
    "\n",
    "    while True:\n",
    "\n",
    "        new_bar_1 = get_latest_bar(name_1)\n",
    "        new_bar_2 = get_latest_bar(name_2)\n",
    "\n",
    "        if new_bar_1['time'].iloc[0] != last_bar_1['time'].iloc[0] or new_bar_2['time'].iloc[0] != \\\n",
    "                last_bar_2['time'].iloc[0]:\n",
    "            print(f'{name_1}, {name_2}: new tick: {datetime.now()}')\n",
    "            return\n",
    "\n",
    "        time.sleep(5)"
   ]
  },
  {
   "cell_type": "code",
   "execution_count": 10,
   "metadata": {},
   "outputs": [],
   "source": [
    "def get_bars(symbol):\n",
    "    return pd.read_csv(symbol + '.csv')"
   ]
  },
  {
   "cell_type": "code",
   "execution_count": 11,
   "metadata": {},
   "outputs": [],
   "source": [
    "def find_filling_mode(symbol):\n",
    "    mt5.initialize()\n",
    "\n",
    "    for i in range(2):\n",
    "        request = {\n",
    "            \"action\": mt5.TRADE_ACTION_DEAL,\n",
    "            \"symbol\": symbol,\n",
    "            \"volume\": mt5.symbol_info(symbol).volume_min,\n",
    "            \"type\": mt5.ORDER_TYPE_BUY,\n",
    "            \"price\": mt5.symbol_info_tick(symbol).ask,\n",
    "            \"type_filling\": i,\n",
    "            \"type_time\": mt5.ORDER_TIME_GTC}\n",
    "\n",
    "        result = mt5.order_check(request)\n",
    "\n",
    "        if result.comment == \"Done\":\n",
    "            break\n",
    "\n",
    "    return i"
   ]
  },
  {
   "cell_type": "code",
   "execution_count": null,
   "metadata": {},
   "outputs": [],
   "source": []
  }
 ],
 "metadata": {
  "kernelspec": {
   "display_name": "Python 3",
   "language": "python",
   "name": "python3"
  },
  "language_info": {
   "codemirror_mode": {
    "name": "ipython",
    "version": 3
   },
   "file_extension": ".py",
   "mimetype": "text/x-python",
   "name": "python",
   "nbconvert_exporter": "python",
   "pygments_lexer": "ipython3",
   "version": "3.10.10"
  }
 },
 "nbformat": 4,
 "nbformat_minor": 2
}
