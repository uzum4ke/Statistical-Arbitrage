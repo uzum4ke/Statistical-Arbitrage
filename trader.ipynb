{
 "cells": [
  {
   "cell_type": "code",
   "execution_count": 3,
   "metadata": {},
   "outputs": [],
   "source": [
    "import MetaTrader5 as mt5\n",
    "import time\n",
    "import math\n",
    "import numpy as np\n",
    "import pandas as pd\n",
    "from datetime import datetime, timedelta\n",
    "\n",
    "from forex_python.converter import CurrencyRates\n",
    "from currency_converter import CurrencyConverter\n",
    "\n",
    "from random import sample\n",
    "\n",
    "from tqdm import tqdm\n",
    "import vectorbt as vbt\n",
    "\n",
    "from pandas.tseries.offsets import BDay\n",
    "from itertools import combinations, count\n",
    "\n",
    "import statsmodels.api as sm\n",
    "from statsmodels.tsa.vector_ar.vecm import coint_johansen\n",
    "from statsmodels.tsa.stattools import adfuller\n",
    "\n",
    "from threading import Thread, Lock\n",
    "from multiprocessing import Process\n",
    "\n",
    "import requests\n",
    "import json\n",
    "import hashlib\n",
    "\n",
    "import matplotlib as mpl\n",
    "import matplotlib.pyplot as plt\n",
    "from matplotlib import cycler"
   ]
  },
  {
   "cell_type": "code",
   "execution_count": 4,
   "metadata": {},
   "outputs": [],
   "source": [
    "colors = cycler('color', ['669FEE', '66EE91', '9988DD', 'EECC55', '88BB44', 'FFBBBB'])\n",
    "plt.rc('figure', facecolor='313233')\n",
    "plt.rc('axes', facecolor='313233', edgecolor='none', axisbelow=True, grid=True, prop_cycle=colors, labelcolor='gray')\n",
    "plt.rc('grid', color='474A4A', linestyle='solid')\n",
    "plt.rc('xtick', color='gray')\n",
    "plt.rc('ytick', direction='out', color='gray')\n",
    "plt.rc('legend', facecolor='313233', edgecolor='313233')\n",
    "plt.rc('text')"
   ]
  },
  {
   "cell_type": "code",
   "execution_count": 5,
   "metadata": {},
   "outputs": [],
   "source": [
    "def send_telegram_message(message: str, chat_id: str, api_key: str, ):\n",
    "    responses = {}\n",
    "\n",
    "    proxies = None\n",
    "    headers = {'Content-Type': 'application/json',\n",
    "               'Proxy-Authorization': 'Basic base64'}\n",
    "    data_dict = {'chat_id': chat_id,\n",
    "                 'text': message,\n",
    "                 'parse_mode': 'HTML',\n",
    "                 'disable_notification': True}\n",
    "    data = json.dumps(data_dict)\n",
    "    url = f'https://api.telegram.org/bot{api_key}/sendMessage'\n",
    "\n",
    "    requests.packages.urllib3.disable_warnings()\n",
    "    response = requests.post(url,\n",
    "                             data=data,\n",
    "                             headers=headers,\n",
    "                             proxies=proxies,\n",
    "                             verify=False)\n",
    "    return response"
   ]
  },
  {
   "cell_type": "code",
   "execution_count": null,
   "metadata": {},
   "outputs": [],
   "source": []
  }
 ],
 "metadata": {
  "kernelspec": {
   "display_name": "Python 3",
   "language": "python",
   "name": "python3"
  },
  "language_info": {
   "codemirror_mode": {
    "name": "ipython",
    "version": 3
   },
   "file_extension": ".py",
   "mimetype": "text/x-python",
   "name": "python",
   "nbconvert_exporter": "python",
   "pygments_lexer": "ipython3",
   "version": "3.10.10"
  }
 },
 "nbformat": 4,
 "nbformat_minor": 2
}
