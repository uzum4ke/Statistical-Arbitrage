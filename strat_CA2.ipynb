{
 "cells": [
  {
   "cell_type": "code",
   "execution_count": 105,
   "metadata": {},
   "outputs": [],
   "source": [
    "import MetaTrader5 as mt5\n",
    "from tqdm import tqdm\n",
    "import time\n",
    "\n",
    "import matplotlib.pyplot as plt\n",
    "\n",
    "import numpy as np\n",
    "import pandas as pd\n",
    "from pandas.tseries.offsets import BDay\n",
    "\n",
    "from datetime import datetime, timedelta\n",
    "from itertools import combinations, count\n",
    "\n",
    "from statsmodels.tsa.vector_ar.vecm import coint_johansen\n",
    "from statsmodels.tsa.stattools import adfuller\n",
    "\n",
    "from hurst import compute_Hc\n",
    "\n",
    "from statsmodels.regression.linear_model import OLS\n",
    "from statsmodels.tools.tools import add_constant\n",
    "\n",
    "from keras.models import Sequential\n",
    "from keras.layers import LSTM, Dense, Dropout\n",
    "from sklearn.preprocessing import MinMaxScaler"
   ]
  },
  {
   "cell_type": "code",
   "execution_count": 50,
   "metadata": {},
   "outputs": [],
   "source": [
    "# get all symbols from the location specified\n",
    "def get_symbols(location):\n",
    "    mt5.initialize()\n",
    "\n",
    "    symbol_list = []\n",
    "    for symbol in mt5.symbols_get():\n",
    "        if location in symbol.path:\n",
    "            symbol_list.append(symbol.name)\n",
    "\n",
    "    return symbol_list"
   ]
  },
  {
   "cell_type": "code",
   "execution_count": 51,
   "metadata": {},
   "outputs": [],
   "source": [
    "# For start_date to end_date get the 1 hour ticker info for symbol\n",
    "def get_bars_from_broker(symbol, start_date, end_date, timeframe=mt5.TIMEFRAME_H1):\n",
    "    mt5.initialize()\n",
    "    bars = mt5.copy_rates_range(symbol, timeframe, start_date, end_date)\n",
    "    df_bars = pd.DataFrame(bars)\n",
    "    df_bars[\"time\"] = pd.to_datetime(df_bars[\"time\"], unit=\"s\")\n",
    "    return df_bars"
   ]
  },
  {
   "cell_type": "code",
   "execution_count": 52,
   "metadata": {},
   "outputs": [
    {
     "data": {
      "text/plain": [
       "True"
      ]
     },
     "execution_count": 52,
     "metadata": {},
     "output_type": "execute_result"
    }
   ],
   "source": [
    "mt5.initialize()"
   ]
  },
  {
   "cell_type": "code",
   "execution_count": 53,
   "metadata": {},
   "outputs": [],
   "source": [
    "# How many days worth of data to consider\n",
    "LOOKBACK = 30\n",
    "\n",
    "end_date = datetime.now() + timedelta(hours=3) # The '+ timedelta(hours=3)' is here because of some unknown time-lag issues with metatrader5\n",
    "start_date = end_date - BDay(LOOKBACK)"
   ]
  },
  {
   "cell_type": "code",
   "execution_count": 54,
   "metadata": {},
   "outputs": [],
   "source": [
    "# 1 Get Asset Universe\n",
    "location = \"Retail\\\\Stocks\\\\UK\""
   ]
  },
  {
   "cell_type": "code",
   "execution_count": 55,
   "metadata": {},
   "outputs": [],
   "source": [
    "# Create a list of all available tradable assets in the chosen location\n",
    "symbol_list = []\n",
    "for symbol in mt5.symbols_get():\n",
    "    if location in symbol.path:\n",
    "        symbol_list.append(symbol.name)"
   ]
  },
  {
   "cell_type": "code",
   "execution_count": 56,
   "metadata": {},
   "outputs": [
    {
     "name": "stderr",
     "output_type": "stream",
     "text": [
      "  0%|          | 0/173 [00:00<?, ?it/s]"
     ]
    },
    {
     "name": "stderr",
     "output_type": "stream",
     "text": [
      "100%|██████████| 173/173 [00:03<00:00, 54.88it/s]\n"
     ]
    }
   ],
   "source": [
    "symbol_close_data = {}\n",
    "# For each symbol\n",
    "for symbol in tqdm(symbol_list):\n",
    "    # get the OHLC data from the broker\n",
    "    bar_data = get_bars_from_broker(symbol, start_date, end_date)\n",
    "\n",
    "    # Store the data locally so we dont have to request the same\n",
    "    # data from the broker everytime we use it. \n",
    "    bar_data.to_csv(f'historic_data/{symbol}.csv', index=False)"
   ]
  },
  {
   "cell_type": "code",
   "execution_count": 57,
   "metadata": {},
   "outputs": [
    {
     "name": "stdout",
     "output_type": "stream",
     "text": [
      "The collection has 14878 baskets of assets\n"
     ]
    }
   ],
   "source": [
    "# Specify the basket size\n",
    "BASKET_SIZE = 2 # Here we keep the basket to pairs as otherwise without parallelization it becomes too computationally expensive\n",
    "\n",
    "# Create a new list whose elements are pairs of assets\n",
    "symbol_basket_collection = list(combinations(symbol_list, BASKET_SIZE))\n",
    "print(f'The collection has {len(symbol_basket_collection)} baskets of assets')"
   ]
  },
  {
   "cell_type": "code",
   "execution_count": 58,
   "metadata": {},
   "outputs": [],
   "source": [
    "def check_cointegration(symbol_basket, total_baskets):\n",
    "    # Read the OHLC data from CSV files\n",
    "    data = [pd.read_csv(f'historic_data/{symbol}.csv') for symbol in symbol_basket]\n",
    "\n",
    "    ##########################################################\n",
    "    # This section equalizes the length of the time series\n",
    "\n",
    "    # Find the minimum length among the dataframes\n",
    "    min_length = min(len(df) for df in data)\n",
    "\n",
    "    # Truncate dataframes to the minimum length\n",
    "    data = [df.head(min_length) for df in data]\n",
    "\n",
    "    # Update CSV files if required\n",
    "    \n",
    "    for symbol, df in zip(symbol_basket, data):\n",
    "        df.to_csv(f'historic_data/{symbol}.csv', index=False)\n",
    "\n",
    "    ##########################################################\n",
    "\n",
    "    # Extract the close prices\n",
    "    close_prices = np.column_stack([df['close'] for df in data])\n",
    "\n",
    "    # Apply Johansen test\n",
    "    johansen_test = coint_johansen(close_prices, det_order=0, k_ar_diff=1)\n",
    "\n",
    "    # Standard alpha value \n",
    "    alpha = 0.05\n",
    "\n",
    "    # Adjust alpha for Bonferroni correction\n",
    "    bonferroni_alpha = alpha / total_baskets\n",
    "\n",
    "    # Check cointegration using the Bonferroni-adjusted alpha\n",
    "    is_cointegrated = any(johansen_test.lr1 > johansen_test.cvt[:, 1]) and (1 - bonferroni_alpha) > 0.95\n",
    "\n",
    "    # Get the cointegration coefficients (eigenvectors)\n",
    "    cointegration_coefficients = johansen_test.evec[:, 0]\n",
    "\n",
    "    return is_cointegrated, cointegration_coefficients.tolist()"
   ]
  },
  {
   "cell_type": "code",
   "execution_count": 59,
   "metadata": {},
   "outputs": [],
   "source": [
    "def find_cointegrated_assets(symbol_baskets_collection):\n",
    "    cointegrated_assets = []\n",
    "    total_baskets = len(symbol_baskets_collection)\n",
    "    \n",
    "    for basket in tqdm(symbol_baskets_collection):\n",
    "\n",
    "        # return (Boolean, List<COEFF>) \n",
    "        is_cointegrated, coefficients = check_cointegration(basket, total_baskets)\n",
    "\n",
    "        # If they are cointegrated\n",
    "        if is_cointegrated:\n",
    "\n",
    "            # Load their OHLC\n",
    "            data = [pd.read_csv(f'historic_data/{symbol}.csv') for symbol in basket]\n",
    "\n",
    "            # Create the (stationary) time series from their close data using the cointegration coefficients\n",
    "            combined_asset = sum(df['close'] * coeff for df, coeff in zip(data, coefficients))\n",
    "\n",
    "            # append to the list of cointegrated assets\n",
    "            cointegrated_assets.append((basket, combined_asset))\n",
    "            \n",
    "    return cointegrated_assets"
   ]
  },
  {
   "cell_type": "code",
   "execution_count": 60,
   "metadata": {},
   "outputs": [
    {
     "name": "stderr",
     "output_type": "stream",
     "text": [
      "100%|██████████| 14878/14878 [05:30<00:00, 45.05it/s]\n"
     ]
    }
   ],
   "source": [
    "cointegrated_assets = find_cointegrated_assets(symbol_basket_collection)"
   ]
  },
  {
   "cell_type": "code",
   "execution_count": 61,
   "metadata": {},
   "outputs": [],
   "source": [
    "def test_stationarity_of_assets(cointegrated_assets):\n",
    "    stationary_assets = []\n",
    "\n",
    "    for asset in tqdm(cointegrated_assets):\n",
    "        asset_name, time_series = asset\n",
    "\n",
    "        # Applying the ADF test\n",
    "        result = adfuller(time_series)\n",
    "\n",
    "        # Extracting the p-value\n",
    "        p_value = result[1]\n",
    "\n",
    "        # Stationarity criteria: p-value should be less than or equal to 0.05\n",
    "        if p_value <= 0.05:\n",
    "            stationary_assets.append((asset_name, time_series))\n",
    "\n",
    "    return stationary_assets"
   ]
  },
  {
   "cell_type": "code",
   "execution_count": 62,
   "metadata": {},
   "outputs": [
    {
     "name": "stderr",
     "output_type": "stream",
     "text": [
      "100%|██████████| 2950/2950 [00:13<00:00, 225.82it/s]\n"
     ]
    }
   ],
   "source": [
    "stationary_assets = test_stationarity_of_assets(cointegrated_assets)"
   ]
  },
  {
   "cell_type": "code",
   "execution_count": 63,
   "metadata": {},
   "outputs": [],
   "source": [
    "def hurst_exponent(time_series):\n",
    "    \n",
    "    # Define the range of lags\n",
    "    lags = range(2, 100)\n",
    "\n",
    "    # Calculate the array of the variances of the lagged differences\n",
    "    tau = [np.sqrt(np.std(np.subtract(time_series[lag:], time_series[:-lag]))) for lag in lags]\n",
    "\n",
    "    # To avoid divide by zero error, add a small constant to tau values\n",
    "    tau = np.array(tau) + 1e-10\n",
    "\n",
    "    # Use a linear fit to estimate the Hurst Exponent\n",
    "    poly = np.polyfit(np.log(lags), np.log(tau), 1)\n",
    "\n",
    "    # The Hurst exponent is half of the slope of the linear fit\n",
    "    return poly[0] * 0.5\n",
    "\n",
    "def check_mean_reversion(stationary_assets):\n",
    "    \n",
    "    mean_reverting_assets = []\n",
    "\n",
    "    for asset in tqdm(stationary_assets):\n",
    "        asset_name, time_series = asset\n",
    "\n",
    "        # Calculate the Hurst exponent for the time series\n",
    "        H = hurst_exponent(time_series)\n",
    "\n",
    "        # Check if the Hurst exponent indicates mean reversion (0 < H < 0.5)\n",
    "        if 0 < H < 0.5:\n",
    "            mean_reverting_assets.append(asset)\n",
    "\n",
    "    return mean_reverting_assets"
   ]
  },
  {
   "cell_type": "code",
   "execution_count": 64,
   "metadata": {},
   "outputs": [
    {
     "name": "stderr",
     "output_type": "stream",
     "text": [
      "100%|██████████| 1763/1763 [01:01<00:00, 28.49it/s]\n"
     ]
    }
   ],
   "source": [
    "mean_reverting_assets = check_mean_reversion(stationary_assets)"
   ]
  },
  {
   "cell_type": "code",
   "execution_count": 74,
   "metadata": {},
   "outputs": [],
   "source": [
    "def calculate_half_life(time_series):\n",
    "    # Prepare the data for linear regression\n",
    "    ts_diff = np.diff(time_series)\n",
    "    ts_lagged = time_series[:-1]\n",
    "\n",
    "    # Perform linear regression\n",
    "    ts_lagged_const = add_constant(ts_lagged)\n",
    "    model = OLS(ts_diff, ts_lagged_const)\n",
    "    result = model.fit()\n",
    "\n",
    "    # Calculate theta from the regression coefficient\n",
    "    theta = -result.params[1]\n",
    "\n",
    "    # Calculate and return half-life\n",
    "    half_life = np.log(2) / theta\n",
    "    return half_life\n",
    "\n",
    "def calculate_half_lives(mean_reverting_assets):\n",
    "    results = []\n",
    "\n",
    "    for asset in mean_reverting_assets:\n",
    "        asset_name, time_series = asset\n",
    "\n",
    "        # Calculate half-life\n",
    "        half_life = calculate_half_life(time_series)\n",
    "        results.append((asset_name, time_series, half_life))\n",
    "\n",
    "    return results"
   ]
  },
  {
   "cell_type": "code",
   "execution_count": 75,
   "metadata": {},
   "outputs": [],
   "source": [
    "half_life_assets = calculate_half_lives(mean_reverting_assets)"
   ]
  },
  {
   "cell_type": "code",
   "execution_count": 78,
   "metadata": {},
   "outputs": [],
   "source": [
    "def find_fastest_half_life_asset(half_life_assets):\n",
    "    if not half_life_assets:\n",
    "        return None\n",
    "\n",
    "    # Initialize with the first asset's data\n",
    "    fastest_asset = half_life_assets[0]\n",
    "\n",
    "    for asset in half_life_assets:\n",
    "        _, _, half_life = asset\n",
    "\n",
    "        # Compare with the current minimum half-life\n",
    "        if half_life < fastest_asset[2]:\n",
    "            fastest_asset = asset\n",
    "\n",
    "    return fastest_asset"
   ]
  },
  {
   "cell_type": "code",
   "execution_count": 79,
   "metadata": {},
   "outputs": [],
   "source": [
    "fastest_half_life_asset = find_fastest_half_life_asset(half_life_assets)"
   ]
  },
  {
   "cell_type": "code",
   "execution_count": 103,
   "metadata": {},
   "outputs": [],
   "source": [
    "def plot_asset(asset):\n",
    "    # Unpack the asset data\n",
    "    asset_name, time_series, _ = asset\n",
    "\n",
    "    # Plotting the time series\n",
    "    # plt.figure(figsize=(10, 6))\n",
    "    \n",
    "    plt.plot(time_series, label=f'{asset_name} Time Series')\n",
    "\n",
    "    plt.axhline(time_series.mean(), color='g')\n",
    "    \n",
    "    plt.axhline(time_series.mean() + time_series.std(), color='y')\n",
    "    plt.axhline(time_series.mean() - time_series.std(), color='y')\n",
    "    \n",
    "    plt.axhline(time_series.mean() + 2 * time_series.std(), color='r')\n",
    "    plt.axhline(time_series.mean() - 2 * time_series.std(), color='r')\n",
    "\n",
    "    plt.title(f'Time Series Plot for {asset_name}')\n",
    "    plt.xlabel('Time')\n",
    "    plt.ylabel('Value')\n",
    "    plt.legend()\n",
    "    plt.grid(True)\n",
    "    plt.show()"
   ]
  },
  {
   "cell_type": "code",
   "execution_count": 104,
   "metadata": {},
   "outputs": [
    {
     "data": {
      "image/png": "[encoded data removed]",
      "text/plain": [
       "<Figure size 640x480 with 1 Axes>"
      ]
     },
     "metadata": {},
     "output_type": "display_data"
    }
   ],
   "source": [
    "plot_asset(fastest_half_life_asset)"
   ]
  },
  {
   "cell_type": "code",
   "execution_count": 106,
   "metadata": {},
   "outputs": [],
   "source": [
    "def lstm_forecast(time_series, half_life):\n",
    "    # Preprocess the time series\n",
    "    scaler = MinMaxScaler(feature_range=(0, 1))\n",
    "    scaled_series = scaler.fit_transform(np.array(time_series).reshape(-1, 1))\n",
    "\n",
    "    # Prepare data for LSTM\n",
    "    def create_dataset(dataset, time_step):\n",
    "        X, y = [], []\n",
    "        for i in range(len(dataset) - time_step - 1):\n",
    "            a = dataset[i:(i + time_step), 0]\n",
    "            X.append(a)\n",
    "            y.append(dataset[i + time_step, 0])\n",
    "        return np.array(X), np.array(y)\n",
    "\n",
    "    time_step = int(half_life)\n",
    "    X, y = create_dataset(scaled_series, time_step)\n",
    "\n",
    "    # Reshape input to be [samples, time steps, features]\n",
    "    X = X.reshape(X.shape[0], X.shape[1], 1)\n",
    "\n",
    "    # Define the LSTM model\n",
    "    model = Sequential()\n",
    "    model.add(LSTM(units=50, return_sequences=True, input_shape=(time_step, 1)))\n",
    "    model.add(Dropout(0.2))\n",
    "    model.add(LSTM(units=50, return_sequences=True))\n",
    "    model.add(Dropout(0.2))\n",
    "    model.add(LSTM(units=50))\n",
    "    model.add(Dropout(0.2))\n",
    "    model.add(Dense(1))\n",
    "\n",
    "    model.compile(optimizer='adam', loss='mean_squared_error')\n",
    "\n",
    "    # Train the model\n",
    "    model.fit(X, y, epochs=100, batch_size=32)\n",
    "\n",
    "    # Forecasting\n",
    "    forecast_length = int(half_life)\n",
    "    forecast = []\n",
    "    current_batch = scaled_series[-time_step:]\n",
    "\n",
    "    for i in range(forecast_length):\n",
    "        current_pred = model.predict(current_batch.reshape(1, time_step, 1))\n",
    "        forecast.append(current_pred[0, 0])\n",
    "        current_batch = np.append(current_batch[1:], current_pred)\n",
    "\n",
    "    return scaler.inverse_transform(np.array(forecast).reshape(-1, 1)).flatten()"
   ]
  },
  {
   "cell_type": "code",
   "execution_count": 107,
   "metadata": {},
   "outputs": [
    {
     "name": "stdout",
     "output_type": "stream",
     "text": [
      "Epoch 1/100\n",
      "8/8 [==============================] - 4s 6ms/step - loss: 0.4220\n",
      "Epoch 2/100\n",
      "8/8 [==============================] - 0s 5ms/step - loss: 0.3298\n",
      "Epoch 3/100\n",
      "8/8 [==============================] - 0s 5ms/step - loss: 0.2044\n",
      "Epoch 4/100\n",
      "8/8 [==============================] - 0s 4ms/step - loss: 0.0604\n",
      "Epoch 5/100\n",
      "8/8 [==============================] - 0s 5ms/step - loss: 0.0413\n",
      "Epoch 6/100\n",
      "8/8 [==============================] - 0s 4ms/step - loss: 0.0314\n",
      "Epoch 7/100\n",
      "8/8 [==============================] - 0s 5ms/step - loss: 0.0248\n",
      "Epoch 8/100\n",
      "8/8 [==============================] - 0s 7ms/step - loss: 0.0260\n",
      "Epoch 9/100\n",
      "8/8 [==============================] - 0s 5ms/step - loss: 0.0252\n",
      "Epoch 10/100\n",
      "8/8 [==============================] - 0s 5ms/step - loss: 0.0245\n",
      "Epoch 11/100\n",
      "8/8 [==============================] - 0s 4ms/step - loss: 0.0248\n",
      "Epoch 12/100\n",
      "8/8 [==============================] - 0s 5ms/step - loss: 0.0246\n",
      "Epoch 13/100\n",
      "8/8 [==============================] - 0s 4ms/step - loss: 0.0247\n",
      "Epoch 14/100\n",
      "8/8 [==============================] - 0s 4ms/step - loss: 0.0243\n",
      "Epoch 15/100\n",
      "8/8 [==============================] - 0s 4ms/step - loss: 0.0250\n",
      "Epoch 16/100\n",
      "8/8 [==============================] - 0s 4ms/step - loss: 0.0232\n",
      "Epoch 17/100\n",
      "8/8 [==============================] - 0s 4ms/step - loss: 0.0236\n",
      "Epoch 18/100\n",
      "8/8 [==============================] - 0s 5ms/step - loss: 0.0275\n",
      "Epoch 19/100\n",
      "8/8 [==============================] - 0s 5ms/step - loss: 0.0257\n",
      "Epoch 20/100\n",
      "8/8 [==============================] - 0s 5ms/step - loss: 0.0238\n",
      "Epoch 21/100\n",
      "8/8 [==============================] - 0s 7ms/step - loss: 0.0239\n",
      "Epoch 22/100\n",
      "8/8 [==============================] - 0s 5ms/step - loss: 0.0245\n",
      "Epoch 23/100\n",
      "8/8 [==============================] - 0s 5ms/step - loss: 0.0231\n",
      "Epoch 24/100\n",
      "8/8 [==============================] - 0s 5ms/step - loss: 0.0265\n",
      "Epoch 25/100\n",
      "8/8 [==============================] - 0s 5ms/step - loss: 0.0226\n",
      "Epoch 26/100\n",
      "8/8 [==============================] - 0s 5ms/step - loss: 0.0233\n",
      "Epoch 27/100\n",
      "8/8 [==============================] - 0s 4ms/step - loss: 0.0216\n",
      "Epoch 28/100\n",
      "8/8 [==============================] - 0s 4ms/step - loss: 0.0244\n",
      "Epoch 29/100\n",
      "8/8 [==============================] - 0s 4ms/step - loss: 0.0230\n",
      "Epoch 30/100\n",
      "8/8 [==============================] - 0s 4ms/step - loss: 0.0224\n",
      "Epoch 31/100\n",
      "8/8 [==============================] - 0s 5ms/step - loss: 0.0214\n",
      "Epoch 32/100\n",
      "8/8 [==============================] - 0s 5ms/step - loss: 0.0212\n",
      "Epoch 33/100\n",
      "8/8 [==============================] - 0s 7ms/step - loss: 0.0218\n",
      "Epoch 34/100\n",
      "8/8 [==============================] - 0s 5ms/step - loss: 0.0208\n",
      "Epoch 35/100\n",
      "8/8 [==============================] - 0s 4ms/step - loss: 0.0234\n",
      "Epoch 36/100\n",
      "8/8 [==============================] - 0s 4ms/step - loss: 0.0226\n",
      "Epoch 37/100\n",
      "8/8 [==============================] - 0s 4ms/step - loss: 0.0235\n",
      "Epoch 38/100\n",
      "8/8 [==============================] - 0s 5ms/step - loss: 0.0210\n",
      "Epoch 39/100\n",
      "8/8 [==============================] - 0s 5ms/step - loss: 0.0239\n",
      "Epoch 40/100\n",
      "8/8 [==============================] - 0s 5ms/step - loss: 0.0224\n",
      "Epoch 41/100\n",
      "8/8 [==============================] - 0s 5ms/step - loss: 0.0235\n",
      "Epoch 42/100\n",
      "8/8 [==============================] - 0s 5ms/step - loss: 0.0223\n",
      "Epoch 43/100\n",
      "8/8 [==============================] - 0s 5ms/step - loss: 0.0243\n",
      "Epoch 44/100\n",
      "8/8 [==============================] - 0s 6ms/step - loss: 0.0241\n",
      "Epoch 45/100\n",
      "8/8 [==============================] - 0s 7ms/step - loss: 0.0234\n",
      "Epoch 46/100\n",
      "8/8 [==============================] - 0s 5ms/step - loss: 0.0242\n",
      "Epoch 47/100\n",
      "8/8 [==============================] - 0s 5ms/step - loss: 0.0227\n",
      "Epoch 48/100\n",
      "8/8 [==============================] - 0s 5ms/step - loss: 0.0232\n",
      "Epoch 49/100\n",
      "8/8 [==============================] - 0s 5ms/step - loss: 0.0226\n",
      "Epoch 50/100\n",
      "8/8 [==============================] - 0s 5ms/step - loss: 0.0220\n",
      "Epoch 51/100\n",
      "8/8 [==============================] - 0s 5ms/step - loss: 0.0223\n",
      "Epoch 52/100\n",
      "8/8 [==============================] - 0s 5ms/step - loss: 0.0213\n",
      "Epoch 53/100\n",
      "8/8 [==============================] - 0s 5ms/step - loss: 0.0234\n",
      "Epoch 54/100\n",
      "8/8 [==============================] - 0s 4ms/step - loss: 0.0227\n",
      "Epoch 55/100\n",
      "8/8 [==============================] - 0s 4ms/step - loss: 0.0212\n",
      "Epoch 56/100\n",
      "8/8 [==============================] - 0s 6ms/step - loss: 0.0209\n",
      "Epoch 57/100\n",
      "8/8 [==============================] - 0s 5ms/step - loss: 0.0206\n",
      "Epoch 58/100\n",
      "8/8 [==============================] - 0s 4ms/step - loss: 0.0224\n",
      "Epoch 59/100\n",
      "8/8 [==============================] - 0s 4ms/step - loss: 0.0235\n",
      "Epoch 60/100\n",
      "8/8 [==============================] - 0s 4ms/step - loss: 0.0217\n",
      "Epoch 61/100\n",
      "8/8 [==============================] - 0s 5ms/step - loss: 0.0220\n",
      "Epoch 62/100\n",
      "8/8 [==============================] - 0s 5ms/step - loss: 0.0265\n",
      "Epoch 63/100\n",
      "8/8 [==============================] - 0s 5ms/step - loss: 0.0230\n",
      "Epoch 64/100\n",
      "8/8 [==============================] - 0s 5ms/step - loss: 0.0228\n",
      "Epoch 65/100\n",
      "8/8 [==============================] - 0s 5ms/step - loss: 0.0209\n",
      "Epoch 66/100\n",
      "8/8 [==============================] - 0s 5ms/step - loss: 0.0235\n",
      "Epoch 67/100\n",
      "8/8 [==============================] - 0s 7ms/step - loss: 0.0218\n",
      "Epoch 68/100\n",
      "8/8 [==============================] - 0s 8ms/step - loss: 0.0224\n",
      "Epoch 69/100\n",
      "8/8 [==============================] - 0s 5ms/step - loss: 0.0200\n",
      "Epoch 70/100\n",
      "8/8 [==============================] - 0s 5ms/step - loss: 0.0228\n",
      "Epoch 71/100\n",
      "8/8 [==============================] - 0s 4ms/step - loss: 0.0222\n",
      "Epoch 72/100\n",
      "8/8 [==============================] - 0s 4ms/step - loss: 0.0202\n",
      "Epoch 73/100\n",
      "8/8 [==============================] - 0s 5ms/step - loss: 0.0227\n",
      "Epoch 74/100\n",
      "8/8 [==============================] - 0s 4ms/step - loss: 0.0223\n",
      "Epoch 75/100\n",
      "8/8 [==============================] - 0s 4ms/step - loss: 0.0211\n",
      "Epoch 76/100\n",
      "8/8 [==============================] - 0s 4ms/step - loss: 0.0216\n",
      "Epoch 77/100\n",
      "8/8 [==============================] - 0s 4ms/step - loss: 0.0210\n",
      "Epoch 78/100\n",
      "8/8 [==============================] - 0s 4ms/step - loss: 0.0218\n",
      "Epoch 79/100\n",
      "8/8 [==============================] - 0s 4ms/step - loss: 0.0236\n",
      "Epoch 80/100\n",
      "8/8 [==============================] - 0s 6ms/step - loss: 0.0210\n",
      "Epoch 81/100\n",
      "8/8 [==============================] - 0s 4ms/step - loss: 0.0217\n",
      "Epoch 82/100\n",
      "8/8 [==============================] - 0s 4ms/step - loss: 0.0224\n",
      "Epoch 83/100\n",
      "8/8 [==============================] - 0s 4ms/step - loss: 0.0210\n",
      "Epoch 84/100\n",
      "8/8 [==============================] - 0s 5ms/step - loss: 0.0218\n",
      "Epoch 85/100\n",
      "8/8 [==============================] - 0s 4ms/step - loss: 0.0200\n",
      "Epoch 86/100\n",
      "8/8 [==============================] - 0s 5ms/step - loss: 0.0202\n",
      "Epoch 87/100\n",
      "8/8 [==============================] - 0s 5ms/step - loss: 0.0219\n",
      "Epoch 88/100\n",
      "8/8 [==============================] - 0s 4ms/step - loss: 0.0222\n",
      "Epoch 89/100\n",
      "8/8 [==============================] - 0s 4ms/step - loss: 0.0211\n",
      "Epoch 90/100\n",
      "8/8 [==============================] - 0s 4ms/step - loss: 0.0217\n",
      "Epoch 91/100\n",
      "8/8 [==============================] - 0s 5ms/step - loss: 0.0224\n",
      "Epoch 92/100\n",
      "8/8 [==============================] - 0s 5ms/step - loss: 0.0200\n",
      "Epoch 93/100\n",
      "8/8 [==============================] - 0s 4ms/step - loss: 0.0230\n",
      "Epoch 94/100\n",
      "8/8 [==============================] - 0s 4ms/step - loss: 0.0197\n",
      "Epoch 95/100\n",
      "8/8 [==============================] - 0s 4ms/step - loss: 0.0206\n",
      "Epoch 96/100\n",
      "8/8 [==============================] - 0s 4ms/step - loss: 0.0213\n",
      "Epoch 97/100\n",
      "8/8 [==============================] - 0s 4ms/step - loss: 0.0207\n",
      "Epoch 98/100\n",
      "8/8 [==============================] - 0s 4ms/step - loss: 0.0214\n",
      "Epoch 99/100\n",
      "8/8 [==============================] - 0s 5ms/step - loss: 0.0195\n",
      "Epoch 100/100\n",
      "8/8 [==============================] - 0s 5ms/step - loss: 0.0225\n",
      "1/1 [==============================] - 1s 771ms/step\n",
      "1/1 [==============================] - 0s 16ms/step\n"
     ]
    }
   ],
   "source": [
    "_, time_series, half_life = fastest_half_life_asset\n",
    "forecast = lstm_forecast(time_series, half_life)"
   ]
  },
  {
   "cell_type": "code",
   "execution_count": null,
   "metadata": {},
   "outputs": [],
   "source": []
  }
 ],
 "metadata": {
  "kernelspec": {
   "display_name": "Python 3",
   "language": "python",
   "name": "python3"
  },
  "language_info": {
   "codemirror_mode": {
    "name": "ipython",
    "version": 3
   },
   "file_extension": ".py",
   "mimetype": "text/x-python",
   "name": "python",
   "nbconvert_exporter": "python",
   "pygments_lexer": "ipython3",
   "version": "3.10.10"
  }
 },
 "nbformat": 4,
 "nbformat_minor": 2
}
