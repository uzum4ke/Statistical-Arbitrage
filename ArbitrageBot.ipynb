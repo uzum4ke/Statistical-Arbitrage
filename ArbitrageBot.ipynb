{
 "cells": [
  {
   "cell_type": "code",
   "execution_count": 7,
   "metadata": {},
   "outputs": [],
   "source": [
    "import pandas as pd\n",
    "import matplotlib.pyplot as plt\n",
    "\n",
    "import gym\n",
    "import gym_anytrading\n"
   ]
  },
  {
   "cell_type": "code",
   "execution_count": 5,
   "metadata": {},
   "outputs": [
    {
     "data": {
      "text/plain": [
       "pandas.core.frame.DataFrame"
      ]
     },
     "execution_count": 5,
     "metadata": {},
     "output_type": "execute_result"
    }
   ],
   "source": [
    "time_series = pd.read_csv('stationary.csv')\n",
    "type(time_series)\n",
    "#plt.plot(time_series)"
   ]
  },
  {
   "cell_type": "code",
   "execution_count": 8,
   "metadata": {},
   "outputs": [
    {
     "ename": "Error",
     "evalue": "Attempted to look up malformed environment ID: b'trading-env'. (Currently all IDs must be of the form ^(?:[\\w:-]+\\/)?([\\w:.-]+)-v(\\d+)$.)",
     "output_type": "error",
     "traceback": [
      "\u001b[1;31m---------------------------------------------------------------------------\u001b[0m",
      "\u001b[1;31mError\u001b[0m                                     Traceback (most recent call last)",
      "Cell \u001b[1;32mIn[8], line 1\u001b[0m\n\u001b[1;32m----> 1\u001b[0m custom_env \u001b[39m=\u001b[39m gym\u001b[39m.\u001b[39;49mmake(\u001b[39m'\u001b[39;49m\u001b[39mtrading-env\u001b[39;49m\u001b[39m'\u001b[39;49m,\n\u001b[0;32m      2\u001b[0m                df \u001b[39m=\u001b[39;49m time_series,\n\u001b[0;32m      3\u001b[0m                window_size \u001b[39m=\u001b[39;49m \u001b[39m10\u001b[39;49m,\n\u001b[0;32m      4\u001b[0m                frame_bound \u001b[39m=\u001b[39;49m (\u001b[39m10\u001b[39;49m, \u001b[39m300\u001b[39;49m),\n\u001b[0;32m      5\u001b[0m                unit_side \u001b[39m=\u001b[39;49m \u001b[39m'\u001b[39;49m\u001b[39mright\u001b[39;49m\u001b[39m'\u001b[39;49m)\n",
      "File \u001b[1;32mc:\\Users\\TEPJA\\AppData\\Local\\Programs\\Python\\Python310\\lib\\site-packages\\gym\\envs\\registration.py:235\u001b[0m, in \u001b[0;36mmake\u001b[1;34m(id, **kwargs)\u001b[0m\n\u001b[0;32m    234\u001b[0m \u001b[39mdef\u001b[39;00m \u001b[39mmake\u001b[39m(\u001b[39mid\u001b[39m, \u001b[39m*\u001b[39m\u001b[39m*\u001b[39mkwargs):\n\u001b[1;32m--> 235\u001b[0m     \u001b[39mreturn\u001b[39;00m registry\u001b[39m.\u001b[39mmake(\u001b[39mid\u001b[39m, \u001b[39m*\u001b[39m\u001b[39m*\u001b[39mkwargs)\n",
      "File \u001b[1;32mc:\\Users\\TEPJA\\AppData\\Local\\Programs\\Python\\Python310\\lib\\site-packages\\gym\\envs\\registration.py:128\u001b[0m, in \u001b[0;36mEnvRegistry.make\u001b[1;34m(self, path, **kwargs)\u001b[0m\n\u001b[0;32m    126\u001b[0m \u001b[39melse\u001b[39;00m:\n\u001b[0;32m    127\u001b[0m     logger\u001b[39m.\u001b[39minfo(\u001b[39m\"\u001b[39m\u001b[39mMaking new env: \u001b[39m\u001b[39m%s\u001b[39;00m\u001b[39m\"\u001b[39m, path)\n\u001b[1;32m--> 128\u001b[0m spec \u001b[39m=\u001b[39m \u001b[39mself\u001b[39;49m\u001b[39m.\u001b[39;49mspec(path)\n\u001b[0;32m    129\u001b[0m env \u001b[39m=\u001b[39m spec\u001b[39m.\u001b[39mmake(\u001b[39m*\u001b[39m\u001b[39m*\u001b[39mkwargs)\n\u001b[0;32m    130\u001b[0m \u001b[39mreturn\u001b[39;00m env\n",
      "File \u001b[1;32mc:\\Users\\TEPJA\\AppData\\Local\\Programs\\Python\\Python310\\lib\\site-packages\\gym\\envs\\registration.py:151\u001b[0m, in \u001b[0;36mEnvRegistry.spec\u001b[1;34m(self, path)\u001b[0m\n\u001b[0;32m    149\u001b[0m match \u001b[39m=\u001b[39m env_id_re\u001b[39m.\u001b[39msearch(\u001b[39mid\u001b[39m)\n\u001b[0;32m    150\u001b[0m \u001b[39mif\u001b[39;00m \u001b[39mnot\u001b[39;00m match:\n\u001b[1;32m--> 151\u001b[0m     \u001b[39mraise\u001b[39;00m error\u001b[39m.\u001b[39mError(\n\u001b[0;32m    152\u001b[0m         \u001b[39m\"\u001b[39m\u001b[39mAttempted to look up malformed environment ID: \u001b[39m\u001b[39m{}\u001b[39;00m\u001b[39m. (Currently all IDs must be of the form \u001b[39m\u001b[39m{}\u001b[39;00m\u001b[39m.)\u001b[39m\u001b[39m\"\u001b[39m\u001b[39m.\u001b[39mformat(\n\u001b[0;32m    153\u001b[0m             \u001b[39mid\u001b[39m\u001b[39m.\u001b[39mencode(\u001b[39m\"\u001b[39m\u001b[39mutf-8\u001b[39m\u001b[39m\"\u001b[39m), env_id_re\u001b[39m.\u001b[39mpattern\n\u001b[0;32m    154\u001b[0m         )\n\u001b[0;32m    155\u001b[0m     )\n\u001b[0;32m    157\u001b[0m \u001b[39mtry\u001b[39;00m:\n\u001b[0;32m    158\u001b[0m     \u001b[39mreturn\u001b[39;00m \u001b[39mself\u001b[39m\u001b[39m.\u001b[39menv_specs[\u001b[39mid\u001b[39m]\n",
      "\u001b[1;31mError\u001b[0m: Attempted to look up malformed environment ID: b'trading-env'. (Currently all IDs must be of the form ^(?:[\\w:-]+\\/)?([\\w:.-]+)-v(\\d+)$.)"
     ]
    }
   ],
   "source": [
    "\n",
    "\n",
    "custom_env = gym.make('trading-env',\n",
    "               df = time_series,\n",
    "               window_size = 10,\n",
    "               frame_bound = (10, 300),\n",
    "               unit_side = 'right')"
   ]
  },
  {
   "cell_type": "code",
   "execution_count": 20,
   "metadata": {},
   "outputs": [],
   "source": [
    "import MetaTrader5 as mt5\n",
    "import pandas as pd\n",
    "from datetime import datetime, timedelta\n",
    "from pandas.tseries.offsets import BDay\n",
    "\n",
    "from currency_converter import CurrencyConverter"
   ]
  },
  {
   "cell_type": "code",
   "execution_count": 64,
   "metadata": {},
   "outputs": [],
   "source": [
    "end_date = datetime.now() + timedelta(hours=3)\n",
    "start_date = end_date - BDay(10)\n",
    "\n",
    "# 1 Get Symbol List\n",
    "location = \"Retail\\\\Forex\"\n",
    "\n",
    "mt5.initialize()\n",
    "symbol_list = []\n",
    "for symbol in mt5.symbols_get():\n",
    "    # if (location_1 in symbol.path or location_2 in symbol.path or location_3 in symbol.path or location_4 in symbol.path) and mt5.symbols_get(symbol.name)[0].ask != 0.0:\n",
    "    # if (location_3 in symbol.path or location_4 in symbol.path) and mt5.symbols_get(symbol.name)[0].ask != 0.0:\n",
    "    if location in symbol.path:\n",
    "        if 'CNH' in symbol or 'RUB' in symbol or 'TRY' in symbol:\n",
    "            continue\n",
    "        symbol_list.append(symbol.name)"
   ]
  },
  {
   "cell_type": "code",
   "execution_count": 65,
   "metadata": {},
   "outputs": [],
   "source": [
    "def calc_position_size(name, risk):\n",
    "    balance = mt5.account_info().balance\n",
    "    \n",
    "    contract_cost = get_pip_value(name, 'EUR')  * mt5.symbols_get(name)[0].trade_contract_size / 30\n",
    "    lot_size = balance * risk / contract_cost\n",
    "\n",
    "    return lot_size\n",
    "\n",
    "\n",
    "def get_pip_value(symbol, account_currency):\n",
    "    symbol_1 = symbol[0:3]\n",
    "    symbol_2 = symbol[3:6]\n",
    "\n",
    "    c = CurrencyConverter()\n",
    "    return c.convert(c.convert(1, symbol_1, symbol_2), symbol_2, account_currency)"
   ]
  },
  {
   "cell_type": "code",
   "execution_count": 67,
   "metadata": {},
   "outputs": [
    {
     "name": "stdout",
     "output_type": "stream",
     "text": [
      "AUDUSD 0.78377418792\n",
      "EURUSD 0.4858506\n",
      "GBPUSD 0.42718414005\n",
      "USDCHF 0.5239898721\n",
      "USDJPY 0.5239898721\n",
      "USDCAD 0.5239898720999999\n",
      "AUDNZD 0.78377418792\n",
      "AUDCAD 0.78377418792\n",
      "AUDCHF 0.78377418792\n",
      "AUDJPY 0.78377418792\n",
      "EURAUD 0.4858506\n",
      "CHFJPY 0.4839071976\n",
      "EURGBP 0.4858506\n",
      "EURNZD 0.4858506\n",
      "EURCHF 0.4858506\n",
      "EURJPY 0.4858506\n",
      "EURCAD 0.4858506\n",
      "GBPCHF 0.42718414005\n",
      "GBPJPY 0.42718414005\n",
      "CADCHF 0.71818435692\n",
      "GBPCAD 0.42718414005\n",
      "CADJPY 0.71818435692\n",
      "AUDSGD 0.78377418792\n",
      "CHFSGD 0.4839071976\n",
      "EURCZK 0.4858506\n",
      "EURHUF 0.4858506\n",
      "EURMXN 0.4858506\n",
      "EURNOK 0.4858506\n",
      "EURPLN 0.4858506\n",
      "EURSEK 0.4858506\n",
      "EURSGD 0.4858506\n",
      "EURZAR 0.4858506\n",
      "GBPAUD 0.42718414005\n",
      "GBPMXN 0.42718414005\n",
      "GBPNOK 0.42718414005\n",
      "GBPNZD 0.42718414005\n",
      "GBPSEK 0.42718414005\n",
      "GBPSGD 0.42718414005\n",
      "NOKJPY 5.5056589992000005\n",
      "NOKSEK 5.5056589992000005\n",
      "NZDCAD 0.8435338117200001\n",
      "NZDCHF 0.8435338117200001\n",
      "NZDJPY 0.8435338117200001\n",
      "NZDUSD 0.8435338117200001\n",
      "SEKJPY 5.418934667100001\n",
      "SGDJPY 0.6991875984600001\n",
      "USDCZK 0.5239898720999999\n",
      "USDHKD 0.5239898721\n",
      "USDHUF 0.5239898721000001\n",
      "USDMXN 0.5239898721000001\n",
      "USDNOK 0.5239898721\n",
      "USDPLN 0.5239898721000001\n",
      "USDSEK 0.5239898721\n",
      "USDSGD 0.5239898721\n",
      "USDTHB 0.5239898721\n",
      "USDZAR 0.5239898721000001\n",
      "ZARJPY 9.645543376740001\n"
     ]
    }
   ],
   "source": [
    "for symbol in symbol_list:\n",
    "    lot_size = calc_position_size(symbol, 0.1)\n",
    "    print(symbol, lot_size)"
   ]
  },
  {
   "cell_type": "code",
   "execution_count": null,
   "metadata": {},
   "outputs": [],
   "source": []
  }
 ],
 "metadata": {
  "kernelspec": {
   "display_name": "Python 3",
   "language": "python",
   "name": "python3"
  },
  "language_info": {
   "codemirror_mode": {
    "name": "ipython",
    "version": 3
   },
   "file_extension": ".py",
   "mimetype": "text/x-python",
   "name": "python",
   "nbconvert_exporter": "python",
   "pygments_lexer": "ipython3",
   "version": "3.10.10"
  },
  "orig_nbformat": 4
 },
 "nbformat": 4,
 "nbformat_minor": 2
}
